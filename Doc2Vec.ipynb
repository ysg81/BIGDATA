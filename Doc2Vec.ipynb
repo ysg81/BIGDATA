{
  "nbformat": 4,
  "nbformat_minor": 0,
  "metadata": {
    "colab": {
      "name": "문서벡터",
      "provenance": [],
      "collapsed_sections": [],
      "authorship_tag": "ABX9TyNz5Jx7S+vxVBS/GRnbSdbC",
      "include_colab_link": true
    },
    "kernelspec": {
      "name": "python3",
      "display_name": "Python 3"
    }
  },
  "cells": [
    {
      "cell_type": "markdown",
      "metadata": {
        "id": "view-in-github",
        "colab_type": "text"
      },
      "source": [
        "<a href=\"https://colab.research.google.com/github/ysg81/BIG_DATA/blob/main/Doc2Vec.ipynb\" target=\"_parent\"><img src=\"https://colab.research.google.com/assets/colab-badge.svg\" alt=\"Open In Colab\"/></a>"
      ]
    },
    {
      "cell_type": "code",
      "metadata": {
        "colab": {
          "base_uri": "https://localhost:8080/"
        },
        "id": "fTmkGl6YasOb",
        "outputId": "050c7fee-500f-4acd-e2af-0687e4aa2792"
      },
      "source": [
        "from gensim.test.utils import common_texts\n",
        "from gensim.models.doc2vec import Doc2Vec, TaggedDocument\n",
        "from gensim.models.callbacks import CallbackAny2Vec\n",
        "\n",
        "import pandas as pd\n",
        "import ast\n",
        "import copy\n",
        "import logging\n",
        "\n",
        "from google.colab import drive\n",
        "drive.mount('/gdrive', force_remount=True)\n"
      ],
      "execution_count": 31,
      "outputs": [
        {
          "output_type": "stream",
          "text": [
            "Mounted at /gdrive\n"
          ],
          "name": "stdout"
        }
      ]
    },
    {
      "cell_type": "code",
      "metadata": {
        "id": "gpEVcSOFa0vB"
      },
      "source": [
        "# 형태소 분해 된 파일 읽는 코드\n",
        " \n",
        "f = open('/gdrive/My Drive/빅데이터/record3_NLTK.csv', 'r', encoding='utf-8')\n",
        "rdr = csv.reader(f)\n",
        "\n",
        "morpheme_separatied_datas = []\n",
        "morpheme_separatied_data_dic = {}\n",
        "\n",
        "morpheme_separatied_type = 5\n",
        "\n",
        "is_content = False\n",
        "ind = 0\n",
        "for line in rdr:\n",
        "    if(is_content):\n",
        "        morpheme_separatied_datas.append([line[0], line[1], line[2], line[3], ast.literal_eval(line[morpheme_separatied_type])] )\n",
        "        morpheme_separatied_data_dic[line[0]] = ind\n",
        "        ind += 1\n",
        "    is_content = True\n",
        " \n",
        "f.close()"
      ],
      "execution_count": 28,
      "outputs": []
    },
    {
      "cell_type": "code",
      "metadata": {
        "id": "jHSbGY-usGRG",
        "colab": {
          "base_uri": "https://localhost:8080/"
        },
        "outputId": "cd6454b3-15e6-4500-9eed-eb396312e6a0"
      },
      "source": [
        "# 문서벡터 모델을 만드는 코드 \n",
        "\n",
        "TRAIN_documents = [TaggedDocument(words=text, tags=[tags]) for tags, x1, x2, x3, text in morpheme_separatied_datas]\n",
        "\n",
        "class callback(CallbackAny2Vec):\n",
        "    def __init__(self):\n",
        "        self.epoch = 0\n",
        "    def on_epoch_end(self, model):\n",
        "        self.epoch += 1\n",
        "        print('epoch {}'.format(self.epoch))\n",
        "        \n",
        "vector_size = 256\n",
        "model = Doc2Vec(TRAIN_documents, vector_size=vector_size, window=3, epochs=80, min_count=0, workers=4, callbacks=[callback()])"
      ],
      "execution_count": 29,
      "outputs": [
        {
          "output_type": "stream",
          "text": [
            "epoch 1\n",
            "epoch 2\n",
            "epoch 3\n",
            "epoch 4\n",
            "epoch 5\n",
            "epoch 6\n",
            "epoch 7\n",
            "epoch 8\n",
            "epoch 9\n",
            "epoch 10\n",
            "epoch 11\n",
            "epoch 12\n",
            "epoch 13\n",
            "epoch 14\n",
            "epoch 15\n",
            "epoch 16\n",
            "epoch 17\n",
            "epoch 18\n",
            "epoch 19\n",
            "epoch 20\n",
            "epoch 21\n",
            "epoch 22\n",
            "epoch 23\n",
            "epoch 24\n",
            "epoch 25\n",
            "epoch 26\n",
            "epoch 27\n",
            "epoch 28\n",
            "epoch 29\n",
            "epoch 30\n",
            "epoch 31\n",
            "epoch 32\n",
            "epoch 33\n",
            "epoch 34\n",
            "epoch 35\n",
            "epoch 36\n",
            "epoch 37\n",
            "epoch 38\n",
            "epoch 39\n",
            "epoch 40\n",
            "epoch 41\n",
            "epoch 42\n",
            "epoch 43\n",
            "epoch 44\n",
            "epoch 45\n",
            "epoch 46\n",
            "epoch 47\n",
            "epoch 48\n",
            "epoch 49\n",
            "epoch 50\n",
            "epoch 51\n",
            "epoch 52\n",
            "epoch 53\n",
            "epoch 54\n",
            "epoch 55\n",
            "epoch 56\n",
            "epoch 57\n",
            "epoch 58\n",
            "epoch 59\n",
            "epoch 60\n",
            "epoch 61\n",
            "epoch 62\n",
            "epoch 63\n",
            "epoch 64\n",
            "epoch 65\n",
            "epoch 66\n",
            "epoch 67\n",
            "epoch 68\n",
            "epoch 69\n",
            "epoch 70\n",
            "epoch 71\n",
            "epoch 72\n",
            "epoch 73\n",
            "epoch 74\n",
            "epoch 75\n",
            "epoch 76\n",
            "epoch 77\n",
            "epoch 78\n",
            "epoch 79\n",
            "epoch 80\n"
          ],
          "name": "stdout"
        }
      ]
    },
    {
      "cell_type": "code",
      "metadata": {
        "id": "38ipqewNvSbB"
      },
      "source": [
        "# 만든 모델을 저장하는 코드\n",
        "model.save('/gdrive/My Drive/빅데이터/summary_model.doc2vec')"
      ],
      "execution_count": null,
      "outputs": []
    },
    {
      "cell_type": "code",
      "metadata": {
        "id": "9zQDKwm_vSKS"
      },
      "source": [
        "# 저장한 모델을 불러오는 코드\n",
        "model = Doc2Vec.load('/gdrive/My Drive/빅데이터/summary_model.doc2vec')"
      ],
      "execution_count": null,
      "outputs": []
    },
    {
      "cell_type": "code",
      "metadata": {
        "id": "JeeB67qGv1ec",
        "colab": {
          "base_uri": "https://localhost:8080/"
        },
        "outputId": "f6314504-37a9-4e73-8178-41572a8c3dbf"
      },
      "source": [
        "# 만든 모델로 트레이닝 데이터를 다시 가공하는 코드\n",
        "\n",
        "doc_vectorlized_datas = copy.deepcopy(morpheme_separatied_datas)\n",
        "\n",
        "for i in range(0,len(doc_vectorlized_datas)):\n",
        "    if(i%100 == 0): print(i)\n",
        "    trained_doc_vec = model.docvecs[doc_vectorlized_datas[i][0]]\n",
        "    inferred_doc_vec = model.infer_vector(doc_vectorlized_datas[i][4])\n",
        "    doc_vectorlized_datas[i].append(inferred_doc_vec)"
      ],
      "execution_count": 30,
      "outputs": [
        {
          "output_type": "stream",
          "text": [
            "0\n",
            "100\n",
            "200\n",
            "300\n",
            "400\n",
            "500\n",
            "600\n",
            "700\n",
            "800\n",
            "900\n",
            "1000\n",
            "1100\n",
            "1200\n",
            "1300\n",
            "1400\n",
            "1500\n",
            "1600\n",
            "1700\n",
            "1800\n",
            "1900\n",
            "2000\n",
            "2100\n",
            "2200\n",
            "2300\n",
            "2400\n",
            "2500\n",
            "2600\n",
            "2700\n",
            "2800\n",
            "2900\n",
            "3000\n",
            "3100\n",
            "3200\n",
            "3300\n",
            "3400\n",
            "3500\n",
            "3600\n",
            "3700\n",
            "3800\n",
            "3900\n",
            "4000\n",
            "4100\n",
            "4200\n",
            "4300\n",
            "4400\n",
            "4500\n",
            "4600\n",
            "4700\n",
            "4800\n",
            "4900\n",
            "5000\n",
            "5100\n",
            "5200\n",
            "5300\n",
            "5400\n",
            "5500\n",
            "5600\n",
            "5700\n",
            "5800\n",
            "5900\n",
            "6000\n",
            "6100\n",
            "6200\n",
            "6300\n",
            "6400\n",
            "6500\n",
            "6600\n",
            "6700\n",
            "6800\n",
            "6900\n",
            "7000\n",
            "7100\n",
            "7200\n",
            "7300\n",
            "7400\n",
            "7500\n",
            "7600\n",
            "7700\n",
            "7800\n",
            "7900\n",
            "8000\n",
            "8100\n",
            "8200\n",
            "8300\n",
            "8400\n",
            "8500\n",
            "8600\n",
            "8700\n",
            "8800\n",
            "8900\n",
            "9000\n",
            "9100\n",
            "9200\n",
            "9300\n",
            "9400\n",
            "9500\n",
            "9600\n",
            "9700\n",
            "9800\n",
            "9900\n",
            "10000\n",
            "10100\n",
            "10200\n",
            "10300\n",
            "10400\n",
            "10500\n",
            "10600\n",
            "10700\n",
            "10800\n",
            "10900\n",
            "11000\n",
            "11100\n",
            "11200\n",
            "11300\n",
            "11400\n",
            "11500\n",
            "11600\n",
            "11700\n",
            "11800\n",
            "11900\n",
            "12000\n",
            "12100\n"
          ],
          "name": "stdout"
        }
      ]
    },
    {
      "cell_type": "code",
      "metadata": {
        "colab": {
          "base_uri": "https://localhost:8080/"
        },
        "id": "muNqh-liEzYT",
        "outputId": "a391cf84-0bf2-4b12-8119-f5c24ca5b6de"
      },
      "source": [
        "print(doc_vectorlized_datas[0])"
      ],
      "execution_count": 37,
      "outputs": [
        {
          "output_type": "stream",
          "text": [
            "['0', '7.1', 'Kimi ni todoke (2010)', \"A girl that resemble 'Sadako' of the movie Ring is being feared by her classmates. She is avoided by everyone.While everyone is avoiding her, the popular boy Shota Kazehaya befriends her, and their love begins to grow.\", ['girl', 'resembl', \"'sadako\", \"'\", 'movi', 'ring', 'fear', 'classmat', '.', 'avoid', 'everyone.whil', 'everyon', 'avoid', ',', 'popular', 'boy', 'shota', 'kazehaya', 'befriend', ',', 'love', 'begin', 'grow', '.'], array([ 2.88638562e-01,  1.16889454e-01, -2.56700605e-01, -1.89332902e-01,\n",
            "       -1.74351797e-01,  4.99596633e-02, -3.75144958e-01,  1.57451779e-01,\n",
            "        4.68589962e-01,  1.17114767e-01,  5.61658025e-01, -9.79948044e-02,\n",
            "       -5.02526164e-01, -3.47290158e-01,  4.20151539e-02,  1.61331855e-02,\n",
            "        1.54998273e-01,  2.31708422e-01,  2.82783896e-01,  7.76358128e-01,\n",
            "       -6.55624449e-01, -5.19515216e-01,  1.14284068e-01,  5.10979490e-03,\n",
            "        3.28138202e-01, -5.66600740e-01,  1.42997175e-01,  4.35012281e-01,\n",
            "       -1.66383177e-01, -3.00169617e-01,  7.07257688e-02, -1.56664565e-01,\n",
            "       -3.48926842e-01, -6.87479333e-04,  5.64440727e-01,  2.90232480e-01,\n",
            "        3.03360134e-01, -5.73872209e-01,  1.49861397e-03,  1.41543686e-01,\n",
            "       -4.18107547e-02,  4.76631910e-01,  4.38194454e-01,  7.24053755e-02,\n",
            "        2.02646777e-01,  1.40331209e-01, -8.69100869e-01,  2.11369649e-01,\n",
            "       -1.08808950e-01, -2.52491772e-01,  4.43463147e-01, -5.44824481e-01,\n",
            "       -3.45795035e-01,  2.28737429e-01, -1.96535438e-01, -3.50845456e-01,\n",
            "       -1.46481842e-01,  4.14227881e-02, -6.84053451e-02,  7.36188710e-01,\n",
            "       -1.33148596e-01, -1.31565064e-01, -5.86558692e-02, -7.48840272e-02,\n",
            "       -3.84274125e-01, -2.50304282e-01, -4.24026608e-01,  6.04027100e-02,\n",
            "        1.39398977e-01,  4.44209963e-01,  2.39883423e-01,  3.26435208e-01,\n",
            "        5.41963279e-01,  3.50309193e-01,  1.70818567e-01,  1.70784786e-01,\n",
            "        9.58275050e-02,  5.25813103e-01, -9.16562438e-01,  4.87457812e-01,\n",
            "        5.53347990e-02, -2.81716377e-01, -2.58313090e-01, -4.25691813e-01,\n",
            "        2.92669386e-01,  7.93086469e-01, -1.40330076e-01, -1.84099764e-01,\n",
            "        3.03831011e-01, -2.07804173e-01, -3.55437845e-01, -3.80904943e-01,\n",
            "        3.81282181e-01,  7.23124743e-02,  1.77785978e-01,  2.22082451e-01,\n",
            "        5.95990598e-01, -6.46677673e-01, -1.34062707e-01,  2.99827546e-01,\n",
            "       -3.33832383e-01,  2.57639110e-01,  9.12716687e-02,  2.42755190e-01,\n",
            "       -1.18150324e-01,  3.14290762e-01,  1.03024840e+00,  7.18493462e-02,\n",
            "        4.34180111e-01, -7.27356151e-02,  5.82998633e-01, -2.27256119e-01,\n",
            "        4.18966979e-01, -6.69466257e-01,  2.39556447e-01,  5.12228370e-01,\n",
            "        6.45867810e-02,  3.13527733e-01, -4.23381418e-01,  3.72445494e-01,\n",
            "       -2.94788718e-01, -1.66462556e-01,  1.37766704e-01, -2.87925720e-01,\n",
            "        4.57892686e-01, -6.96437061e-02,  5.15263379e-01,  6.99459314e-01,\n",
            "        6.49035931e-01, -7.42350146e-02, -3.36316764e-01,  8.08836579e-01,\n",
            "        3.70361134e-02,  1.21054664e-01, -4.48626608e-01, -1.25759810e-01,\n",
            "       -7.78519288e-02, -2.95900047e-01,  5.49847186e-01, -3.98087978e-01,\n",
            "       -1.04083948e-01,  8.66234839e-01,  5.75503588e-01,  2.93616997e-03,\n",
            "       -3.22138846e-01, -3.76825780e-01,  3.13908666e-01, -5.44566035e-01,\n",
            "        1.48466930e-01, -5.39668143e-01, -2.54603028e-01, -9.54561681e-02,\n",
            "       -5.99854410e-01, -4.28928941e-01, -7.62774143e-03, -1.95176095e-01,\n",
            "        3.34729880e-01, -9.41167353e-04,  3.92928049e-02, -4.11251366e-01,\n",
            "       -6.62310123e-01, -1.50157630e-01, -3.91998321e-01, -3.72749642e-02,\n",
            "        4.97177020e-02,  1.15203243e-02, -6.16778880e-02, -5.41617200e-02,\n",
            "        6.71834409e-01, -4.55268174e-02,  5.61110318e-01,  5.36801636e-01,\n",
            "        4.73018438e-01, -1.09164147e-02,  3.96664172e-01,  6.89970434e-01,\n",
            "       -3.62284034e-01,  9.86763358e-01,  3.31329294e-02, -2.66959637e-01,\n",
            "        2.75781214e-01,  1.03476703e+00, -3.36994648e-01, -6.87344223e-02,\n",
            "        2.53939152e-01,  2.77472083e-02,  1.04872555e-01,  2.25411683e-01,\n",
            "       -3.95316631e-01,  2.29687244e-01, -4.15126294e-01, -7.82260478e-01,\n",
            "        4.34332460e-01, -3.89910907e-01,  5.28982937e-01,  3.64288241e-01,\n",
            "        5.28000951e-01,  2.55000323e-01, -3.91632944e-01, -2.91594714e-01,\n",
            "        3.19895476e-01,  4.13746648e-02, -1.15227498e-01,  3.34854484e-01,\n",
            "        3.19269985e-01, -8.88940275e-01, -5.04762471e-01, -2.46839166e-01,\n",
            "        1.81797892e-01, -9.82087731e-01,  3.07658345e-01,  2.90810287e-01,\n",
            "        2.91587889e-01, -2.76440792e-02, -1.16525628e-01, -2.39145696e-01,\n",
            "        3.91358733e-01, -1.73061225e-03,  8.36034343e-02,  5.11733353e-01,\n",
            "        3.77812803e-01,  4.08204973e-01,  8.85938853e-02,  6.05709493e-01,\n",
            "        4.11553234e-02,  1.59847215e-01,  1.75715297e-01, -1.43180504e-01,\n",
            "       -5.41818321e-01,  6.90373898e-01, -4.29598391e-01,  1.86220601e-01,\n",
            "        1.16187986e-02,  2.63276100e-01,  3.43339682e-01,  2.06333846e-01,\n",
            "        1.93499058e-01,  7.27930740e-02, -2.96033382e-01, -9.05655921e-02,\n",
            "        1.03559434e-01, -4.65958953e-01, -4.09740299e-01,  3.07223201e-01,\n",
            "       -7.08140954e-02,  4.55101043e-01,  3.61869395e-01, -4.47762221e-01,\n",
            "       -2.80241698e-01, -2.29900375e-01,  4.40495938e-01,  6.69528404e-03,\n",
            "       -5.79926312e-01,  4.25416231e-01,  1.81180593e-02,  7.94024989e-02],\n",
            "      dtype=float32)]\n"
          ],
          "name": "stdout"
        }
      ]
    },
    {
      "cell_type": "code",
      "metadata": {
        "id": "cpE2y3D_GEwI"
      },
      "source": [
        "# 가공된 트레이닝 데이터를 csv 파일로 저장하는 코드\n",
        "df = pd.DataFrame(doc_vectorlized_datas)\n",
        "df.to_csv('/gdrive/My Drive/빅데이터/record3_doc2vec.csv', header=None, index=None)\n"
      ],
      "execution_count": 43,
      "outputs": []
    },
    {
      "cell_type": "code",
      "metadata": {
        "id": "9BXDwWkuwzJl"
      },
      "source": [
        "# 형태소분해 된 문장 중 가장 비슷한 문장 id를 찾는 코드\n",
        "\n",
        "\n",
        "def finding_similar(new_document, count = 1):\n",
        "\n",
        "    inferred_v = model_loaded.infer_vector(new_document)\n",
        "    model.docvecs.init_sims()\n",
        "    return model_loaded.docvecs.most_similar([inferred_v], topn=count)\n",
        "\n",
        "# [[문서id, 유사도]...count개]\n",
        "\n"
      ],
      "execution_count": null,
      "outputs": []
    }
  ]
}