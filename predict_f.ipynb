{
 "cells": [
  {
   "cell_type": "code",
   "execution_count": 2,
   "metadata": {},
   "outputs": [],
   "source": [
    "from tensorflow.python.keras.preprocessing.sequence import pad_sequences\n",
    "from tensorflow.python.keras.preprocessing.text import Tokenizer\n",
    "from sklearn.model_selection import train_test_split\n",
    "from nltk.corpus import stopwords\n",
    "\n",
    "import numpy as np\n",
    "import pandas as pd\n",
    "import os\n",
    "import re\n",
    "import json\n",
    "import matplotlib.pyplot as plt\n",
    "import seaborn as sns\n",
    "%matplotlib inline"
   ]
  },
  {
   "cell_type": "code",
   "execution_count": 3,
   "metadata": {},
   "outputs": [],
   "source": [
    "train_data = pd.read_csv('../doc2vec.csv', sep=',', header=None, nrows=None)"
   ]
  },
  {
   "cell_type": "code",
   "execution_count": 4,
   "metadata": {},
   "outputs": [],
   "source": [
    "def preprocessing(text, remove_stopwords = False):\n",
    "    \n",
    "    r_text = re.sub(\"[^a-zA-Z]\", \" \", text)\n",
    "    \n",
    "    words = r_text.lower().split()\n",
    "    \n",
    "    if remove_stopwords:\n",
    "        \n",
    "        stops = set(stopwords.words(\"english\"))\n",
    "        \n",
    "        words = [w for w in words if not w in stops]\n",
    "        \n",
    "        clean_text = ' '.join(words)\n",
    "    \n",
    "    else:\n",
    "        clean_text = ' '.join(words)\n",
    "        \n",
    "    return clean_text"
   ]
  },
  {
   "cell_type": "code",
   "execution_count": 5,
   "metadata": {},
   "outputs": [],
   "source": [
    "clean_train_text = []\n",
    "for text in train_data[3]:\n",
    "    clean_train_text.append(preprocessing(text, remove_stopwords=True))"
   ]
  },
  {
   "cell_type": "code",
   "execution_count": 6,
   "metadata": {},
   "outputs": [],
   "source": [
    "tokenizer = Tokenizer()\n",
    "tokenizer.fit_on_texts(clean_train_text)\n",
    "text_sequences = tokenizer.texts_to_sequences(clean_train_text)"
   ]
  },
  {
   "cell_type": "code",
   "execution_count": 7,
   "metadata": {},
   "outputs": [],
   "source": [
    "train_data = pd.read_csv('data_in/train_clean.csv')"
   ]
  },
  {
   "cell_type": "code",
   "execution_count": 8,
   "metadata": {},
   "outputs": [],
   "source": [
    "texts = list(train_data['text'])\n",
    "scores = list(train_data['score'])\n",
    "\n",
    "sentences = []\n",
    "for text in texts:\n",
    "    sentences.append(text.split())"
   ]
  },
  {
   "cell_type": "code",
   "execution_count": 9,
   "metadata": {},
   "outputs": [],
   "source": [
    "num_features = 100\n",
    "min_word_count = 0\n",
    "num_workers = 4\n",
    "context = 3\n",
    "downsampling = 1e-3"
   ]
  },
  {
   "cell_type": "code",
   "execution_count": 10,
   "metadata": {},
   "outputs": [],
   "source": [
    "import logging\n",
    "logging.basicConfig(format='%(asctime)s : %(levelname)s : %(message)s', level=logging.INFO)"
   ]
  },
  {
   "cell_type": "code",
   "execution_count": 11,
   "metadata": {
    "scrolled": false
   },
   "outputs": [
    {
     "name": "stderr",
     "output_type": "stream",
     "text": [
      "2020-12-13 00:17:15,270 : INFO : collecting all words and their counts\n",
      "2020-12-13 00:17:15,271 : INFO : PROGRESS: at sentence #0, processed 0 words, keeping 0 word types\n",
      "2020-12-13 00:17:15,300 : INFO : PROGRESS: at sentence #10000, processed 182667 words, keeping 22272 word types\n",
      "2020-12-13 00:17:15,335 : INFO : PROGRESS: at sentence #20000, processed 390126 words, keeping 33563 word types\n",
      "2020-12-13 00:17:15,376 : INFO : PROGRESS: at sentence #30000, processed 630133 words, keeping 42709 word types\n",
      "2020-12-13 00:17:15,419 : INFO : PROGRESS: at sentence #40000, processed 885516 words, keeping 51568 word types\n",
      "2020-12-13 00:17:15,460 : INFO : PROGRESS: at sentence #50000, processed 1132112 words, keeping 58971 word types\n"
     ]
    },
    {
     "name": "stdout",
     "output_type": "stream",
     "text": [
      "Training model...\n"
     ]
    },
    {
     "name": "stderr",
     "output_type": "stream",
     "text": [
      "2020-12-13 00:17:15,503 : INFO : PROGRESS: at sentence #60000, processed 1367071 words, keeping 65607 word types\n",
      "2020-12-13 00:17:15,508 : INFO : collected 66447 word types from a corpus of 1397102 raw words and 61309 sentences\n",
      "2020-12-13 00:17:15,508 : INFO : Loading a fresh vocabulary\n",
      "2020-12-13 00:17:15,582 : INFO : effective_min_count=0 retains 66447 unique words (100% of original 66447, drops 0)\n",
      "2020-12-13 00:17:15,582 : INFO : effective_min_count=0 leaves 1397102 word corpus (100% of original 1397102, drops 0)\n",
      "2020-12-13 00:17:15,743 : INFO : deleting the raw counts dictionary of 66447 items\n",
      "2020-12-13 00:17:15,745 : INFO : sample=0.001 downsamples 15 most-common words\n",
      "2020-12-13 00:17:15,745 : INFO : downsampling leaves estimated 1375879 word corpus (98.5% of prior 1397102)\n",
      "2020-12-13 00:17:15,895 : INFO : estimated required memory for 66447 words and 100 dimensions: 86381100 bytes\n",
      "2020-12-13 00:17:15,896 : INFO : resetting layer weights\n",
      "2020-12-13 00:17:25,431 : INFO : training model with 4 workers on 66447 vocabulary and 100 features, using sg=0 hs=0 sample=0.001 negative=5 window=3\n",
      "2020-12-13 00:17:26,168 : INFO : worker thread finished; awaiting finish of 3 more threads\n",
      "2020-12-13 00:17:26,173 : INFO : worker thread finished; awaiting finish of 2 more threads\n",
      "2020-12-13 00:17:26,179 : INFO : worker thread finished; awaiting finish of 1 more threads\n",
      "2020-12-13 00:17:26,183 : INFO : worker thread finished; awaiting finish of 0 more threads\n",
      "2020-12-13 00:17:26,183 : INFO : EPOCH - 1 : training on 1397102 raw words (1375943 effective words) took 0.7s, 1844233 effective words/s\n",
      "2020-12-13 00:17:26,933 : INFO : worker thread finished; awaiting finish of 3 more threads\n",
      "2020-12-13 00:17:26,934 : INFO : worker thread finished; awaiting finish of 2 more threads\n",
      "2020-12-13 00:17:26,935 : INFO : worker thread finished; awaiting finish of 1 more threads\n",
      "2020-12-13 00:17:26,942 : INFO : worker thread finished; awaiting finish of 0 more threads\n",
      "2020-12-13 00:17:26,943 : INFO : EPOCH - 2 : training on 1397102 raw words (1375883 effective words) took 0.8s, 1825184 effective words/s\n",
      "2020-12-13 00:17:27,668 : INFO : worker thread finished; awaiting finish of 3 more threads\n",
      "2020-12-13 00:17:27,672 : INFO : worker thread finished; awaiting finish of 2 more threads\n",
      "2020-12-13 00:17:27,677 : INFO : worker thread finished; awaiting finish of 1 more threads\n",
      "2020-12-13 00:17:27,682 : INFO : worker thread finished; awaiting finish of 0 more threads\n",
      "2020-12-13 00:17:27,683 : INFO : EPOCH - 3 : training on 1397102 raw words (1375831 effective words) took 0.7s, 1870178 effective words/s\n",
      "2020-12-13 00:17:28,425 : INFO : worker thread finished; awaiting finish of 3 more threads\n",
      "2020-12-13 00:17:28,431 : INFO : worker thread finished; awaiting finish of 2 more threads\n",
      "2020-12-13 00:17:28,436 : INFO : worker thread finished; awaiting finish of 1 more threads\n",
      "2020-12-13 00:17:28,442 : INFO : worker thread finished; awaiting finish of 0 more threads\n",
      "2020-12-13 00:17:28,443 : INFO : EPOCH - 4 : training on 1397102 raw words (1375933 effective words) took 0.8s, 1825289 effective words/s\n",
      "2020-12-13 00:17:29,163 : INFO : worker thread finished; awaiting finish of 3 more threads\n",
      "2020-12-13 00:17:29,171 : INFO : worker thread finished; awaiting finish of 2 more threads\n",
      "2020-12-13 00:17:29,175 : INFO : worker thread finished; awaiting finish of 1 more threads\n",
      "2020-12-13 00:17:29,177 : INFO : worker thread finished; awaiting finish of 0 more threads\n",
      "2020-12-13 00:17:29,178 : INFO : EPOCH - 5 : training on 1397102 raw words (1375881 effective words) took 0.7s, 1885706 effective words/s\n",
      "2020-12-13 00:17:29,178 : INFO : training on a 6985510 raw words (6879471 effective words) took 3.7s, 1836538 effective words/s\n"
     ]
    }
   ],
   "source": [
    "from gensim.models import word2vec\n",
    "print(\"Training model...\")\n",
    "word2vec_model = word2vec.Word2Vec(sentences, workers=num_workers, size=num_features, min_count=min_word_count, window=context, sample=downsampling)"
   ]
  },
  {
   "cell_type": "code",
   "execution_count": 33,
   "metadata": {},
   "outputs": [],
   "source": [
    "model_name = \"100features_0minwords_3context\"\n",
    "model.save(model_name)"
   ]
  },
  {
   "cell_type": "code",
   "execution_count": 12,
   "metadata": {},
   "outputs": [],
   "source": [
    "def get_features(words, model, num_features):\n",
    "    \n",
    "    feature_vector = np.zeros((num_features), dtype=np.float64)\n",
    "    \n",
    "    num_words = 0\n",
    "    \n",
    "    index2word_set = set(model.wv.index2word)\n",
    "    \n",
    "    for w in words:\n",
    "        \n",
    "        if w in index2word_set:\n",
    "            \n",
    "            num_words += 1\n",
    "            \n",
    "            feature_vector = np.add(feature_vector, model[w])\n",
    "            \n",
    "    feature_vector = np.divide(feature_vector, num_words)\n",
    "    \n",
    "    return feature_vector"
   ]
  },
  {
   "cell_type": "code",
   "execution_count": 13,
   "metadata": {},
   "outputs": [],
   "source": [
    "def get_dataset(texts, model, num_features):\n",
    "    \n",
    "    dataset = list()\n",
    "    \n",
    "    for s in texts:\n",
    "    \n",
    "        dataset.append(get_features(s, model, num_features))\n",
    "        \n",
    "    textFeatureVecs = np.stack(dataset)\n",
    "    \n",
    "    return textFeatureVecs"
   ]
  },
  {
   "cell_type": "code",
   "execution_count": 14,
   "metadata": {},
   "outputs": [
    {
     "name": "stderr",
     "output_type": "stream",
     "text": [
      "C:\\Users\\jjae0\\anaconda3\\lib\\site-packages\\ipykernel_launcher.py:15: DeprecationWarning: Call to deprecated `__getitem__` (Method will be removed in 4.0.0, use self.wv.__getitem__() instead).\n",
      "  from ipykernel import kernelapp as app\n"
     ]
    }
   ],
   "source": [
    "train_data_vecs = get_dataset(sentences, word2vec_model, num_features)"
   ]
  },
  {
   "cell_type": "code",
   "execution_count": 15,
   "metadata": {},
   "outputs": [],
   "source": [
    "train_X = train_data_vecs\n",
    "train_y = np.array(scores).reshape(-1,1)"
   ]
  },
  {
   "cell_type": "markdown",
   "metadata": {},
   "source": [
    "# test data"
   ]
  },
  {
   "cell_type": "code",
   "execution_count": 16,
   "metadata": {},
   "outputs": [],
   "source": [
    "test_data = pd.read_csv('new_test_30.csv')"
   ]
  },
  {
   "cell_type": "code",
   "execution_count": 17,
   "metadata": {},
   "outputs": [],
   "source": [
    "texts = list(test_data['text'])\n",
    "\n",
    "sentences = []\n",
    "for text in texts:\n",
    "    sentences.append(text.split())"
   ]
  },
  {
   "cell_type": "code",
   "execution_count": 18,
   "metadata": {},
   "outputs": [],
   "source": [
    "scores = test_data['score']"
   ]
  },
  {
   "cell_type": "code",
   "execution_count": 19,
   "metadata": {},
   "outputs": [
    {
     "name": "stderr",
     "output_type": "stream",
     "text": [
      "C:\\Users\\jjae0\\anaconda3\\lib\\site-packages\\ipykernel_launcher.py:15: DeprecationWarning: Call to deprecated `__getitem__` (Method will be removed in 4.0.0, use self.wv.__getitem__() instead).\n",
      "  from ipykernel import kernelapp as app\n"
     ]
    }
   ],
   "source": [
    "test_data_vecs = get_dataset(sentences, word2vec_model, num_features)"
   ]
  },
  {
   "cell_type": "code",
   "execution_count": 20,
   "metadata": {
    "scrolled": false
   },
   "outputs": [],
   "source": [
    "test_X = test_data_vecs\n",
    "test_y = scores"
   ]
  },
  {
   "cell_type": "markdown",
   "metadata": {},
   "source": [
    "# model"
   ]
  },
  {
   "cell_type": "code",
   "execution_count": 21,
   "metadata": {},
   "outputs": [
    {
     "name": "stderr",
     "output_type": "stream",
     "text": [
      "Using TensorFlow backend.\n"
     ]
    }
   ],
   "source": [
    "from numpy import asarray\n",
    "from sklearn.datasets import make_regression\n",
    "from keras.models import Sequential\n",
    "from keras.layers import Dense"
   ]
  },
  {
   "cell_type": "code",
   "execution_count": 22,
   "metadata": {},
   "outputs": [],
   "source": [
    "def get_model(n_inputs, n_outputs):\n",
    "    model = Sequential()\n",
    "    model.add(Dense(20, input_dim=n_inputs, kernel_initializer='he_uniform', activation='relu'))\n",
    "    model.add(Dense(10, kernel_initializer='he_uniform', activation='relu'))\n",
    "    model.add(Dense(n_outputs, kernel_initializer='he_uniform'))\n",
    "    model.compile(loss='mean_squared_error', optimizer='adam')\n",
    "    return model"
   ]
  },
  {
   "cell_type": "code",
   "execution_count": 105,
   "metadata": {},
   "outputs": [],
   "source": [
    "n_inputs, n_outputs = train_X.shape[1], train_y.shape[1]\n",
    "model = get_model(n_inputs, n_outputs)"
   ]
  },
  {
   "cell_type": "code",
   "execution_count": 106,
   "metadata": {
    "scrolled": true
   },
   "outputs": [
    {
     "data": {
      "text/plain": [
       "<keras.callbacks.callbacks.History at 0x1f66112b588>"
      ]
     },
     "execution_count": 106,
     "metadata": {},
     "output_type": "execute_result"
    }
   ],
   "source": [
    "model.fit(train_X, train_y, verbose=0, epochs=100)"
   ]
  },
  {
   "cell_type": "code",
   "execution_count": 107,
   "metadata": {},
   "outputs": [
    {
     "name": "stdout",
     "output_type": "stream",
     "text": [
      "> 0.754\n"
     ]
    }
   ],
   "source": [
    "mae = model.evaluate(test_X, test_y, verbose=0)\n",
    "print('> %.3f' % mae)"
   ]
  },
  {
   "cell_type": "code",
   "execution_count": 108,
   "metadata": {
    "scrolled": false
   },
   "outputs": [
    {
     "name": "stdout",
     "output_type": "stream",
     "text": [
      "1번째 / 예측값 : [[6.]], 실제값 : 7.7\n",
      "2번째 / 예측값 : [[6.]], 실제값 : 6.3\n",
      "3번째 / 예측값 : [[7.2]], 실제값 : 5.8\n",
      "4번째 / 예측값 : [[6.8]], 실제값 : 5.4\n",
      "5번째 / 예측값 : [[6.7]], 실제값 : 6.4\n",
      "6번째 / 예측값 : [[6.2]], 실제값 : 5.5\n",
      "7번째 / 예측값 : [[6.4]], 실제값 : 6.1\n",
      "8번째 / 예측값 : [[6.3]], 실제값 : 6.0\n",
      "9번째 / 예측값 : [[6.2]], 실제값 : 6.1\n",
      "10번째 / 예측값 : [[6.4]], 실제값 : 5.8\n",
      "11번째 / 예측값 : [[6.6]], 실제값 : 7.4\n",
      "12번째 / 예측값 : [[6.2]], 실제값 : 5.7\n",
      "13번째 / 예측값 : [[5.2]], 실제값 : 5.3\n",
      "14번째 / 예측값 : [[6.1]], 실제값 : 4.3\n",
      "15번째 / 예측값 : [[6.2]], 실제값 : 4.5\n",
      "16번째 / 예측값 : [[6.4]], 실제값 : 5.3\n",
      "17번째 / 예측값 : [[6.5]], 실제값 : 6.3\n",
      "18번째 / 예측값 : [[6.4]], 실제값 : 7.0\n",
      "19번째 / 예측값 : [[5.9]], 실제값 : 6.0\n",
      "20번째 / 예측값 : [[6.]], 실제값 : 5.3\n",
      "21번째 / 예측값 : [[6.4]], 실제값 : 5.6\n",
      "22번째 / 예측값 : [[6.2]], 실제값 : 4.5\n",
      "23번째 / 예측값 : [[6.3]], 실제값 : 6.1\n",
      "24번째 / 예측값 : [[6.1]], 실제값 : 4.2\n",
      "25번째 / 예측값 : [[6.5]], 실제값 : 6.0\n",
      "26번째 / 예측값 : [[6.]], 실제값 : 6.1\n",
      "27번째 / 예측값 : [[6.7]], 실제값 : 6.0\n",
      "28번째 / 예측값 : [[6.1]], 실제값 : 6.8\n",
      "29번째 / 예측값 : [[5.6]], 실제값 : 5.7\n",
      "30번째 / 예측값 : [[6.8]], 실제값 : 5.7\n"
     ]
    }
   ],
   "source": [
    "yhat = []\n",
    "for i in range(30):\n",
    "    newX = asarray([test_X[i]])\n",
    "    t = model.predict(newX).round(1)\n",
    "    yhat.append(t)\n",
    "    print('{0}번째 / 예측값 : {1}, 실제값 : {2}'.format(i+1, t, test_y[i]))"
   ]
  },
  {
   "cell_type": "code",
   "execution_count": 127,
   "metadata": {},
   "outputs": [],
   "source": [
    "yhat = np.ravel(yhat, order='C')"
   ]
  },
  {
   "cell_type": "code",
   "execution_count": 128,
   "metadata": {},
   "outputs": [],
   "source": [
    "qwer = pd.read_csv('new_30.csv',header=None)"
   ]
  },
  {
   "cell_type": "code",
   "execution_count": 129,
   "metadata": {
    "scrolled": false
   },
   "outputs": [],
   "source": [
    "result_df = pd.DataFrame({'id' : qwer[0], 'predict_score' : yhat})"
   ]
  },
  {
   "cell_type": "code",
   "execution_count": 130,
   "metadata": {},
   "outputs": [
    {
     "data": {
      "text/html": [
       "<div>\n",
       "<style scoped>\n",
       "    .dataframe tbody tr th:only-of-type {\n",
       "        vertical-align: middle;\n",
       "    }\n",
       "\n",
       "    .dataframe tbody tr th {\n",
       "        vertical-align: top;\n",
       "    }\n",
       "\n",
       "    .dataframe thead th {\n",
       "        text-align: right;\n",
       "    }\n",
       "</style>\n",
       "<table border=\"1\" class=\"dataframe\">\n",
       "  <thead>\n",
       "    <tr style=\"text-align: right;\">\n",
       "      <th></th>\n",
       "      <th>id</th>\n",
       "      <th>predict_score</th>\n",
       "    </tr>\n",
       "  </thead>\n",
       "  <tbody>\n",
       "    <tr>\n",
       "      <th>0</th>\n",
       "      <td>0</td>\n",
       "      <td>6.0</td>\n",
       "    </tr>\n",
       "    <tr>\n",
       "      <th>1</th>\n",
       "      <td>1</td>\n",
       "      <td>6.0</td>\n",
       "    </tr>\n",
       "    <tr>\n",
       "      <th>2</th>\n",
       "      <td>2</td>\n",
       "      <td>7.2</td>\n",
       "    </tr>\n",
       "    <tr>\n",
       "      <th>3</th>\n",
       "      <td>3</td>\n",
       "      <td>6.8</td>\n",
       "    </tr>\n",
       "    <tr>\n",
       "      <th>4</th>\n",
       "      <td>4</td>\n",
       "      <td>6.7</td>\n",
       "    </tr>\n",
       "    <tr>\n",
       "      <th>5</th>\n",
       "      <td>5</td>\n",
       "      <td>6.2</td>\n",
       "    </tr>\n",
       "    <tr>\n",
       "      <th>6</th>\n",
       "      <td>6</td>\n",
       "      <td>6.4</td>\n",
       "    </tr>\n",
       "    <tr>\n",
       "      <th>7</th>\n",
       "      <td>7</td>\n",
       "      <td>6.3</td>\n",
       "    </tr>\n",
       "    <tr>\n",
       "      <th>8</th>\n",
       "      <td>8</td>\n",
       "      <td>6.2</td>\n",
       "    </tr>\n",
       "    <tr>\n",
       "      <th>9</th>\n",
       "      <td>9</td>\n",
       "      <td>6.4</td>\n",
       "    </tr>\n",
       "    <tr>\n",
       "      <th>10</th>\n",
       "      <td>10</td>\n",
       "      <td>6.6</td>\n",
       "    </tr>\n",
       "    <tr>\n",
       "      <th>11</th>\n",
       "      <td>11</td>\n",
       "      <td>6.2</td>\n",
       "    </tr>\n",
       "    <tr>\n",
       "      <th>12</th>\n",
       "      <td>12</td>\n",
       "      <td>5.2</td>\n",
       "    </tr>\n",
       "    <tr>\n",
       "      <th>13</th>\n",
       "      <td>13</td>\n",
       "      <td>6.1</td>\n",
       "    </tr>\n",
       "    <tr>\n",
       "      <th>14</th>\n",
       "      <td>14</td>\n",
       "      <td>6.2</td>\n",
       "    </tr>\n",
       "    <tr>\n",
       "      <th>15</th>\n",
       "      <td>15</td>\n",
       "      <td>6.4</td>\n",
       "    </tr>\n",
       "    <tr>\n",
       "      <th>16</th>\n",
       "      <td>16</td>\n",
       "      <td>6.5</td>\n",
       "    </tr>\n",
       "    <tr>\n",
       "      <th>17</th>\n",
       "      <td>17</td>\n",
       "      <td>6.4</td>\n",
       "    </tr>\n",
       "    <tr>\n",
       "      <th>18</th>\n",
       "      <td>18</td>\n",
       "      <td>5.9</td>\n",
       "    </tr>\n",
       "    <tr>\n",
       "      <th>19</th>\n",
       "      <td>19</td>\n",
       "      <td>6.0</td>\n",
       "    </tr>\n",
       "    <tr>\n",
       "      <th>20</th>\n",
       "      <td>20</td>\n",
       "      <td>6.4</td>\n",
       "    </tr>\n",
       "    <tr>\n",
       "      <th>21</th>\n",
       "      <td>21</td>\n",
       "      <td>6.2</td>\n",
       "    </tr>\n",
       "    <tr>\n",
       "      <th>22</th>\n",
       "      <td>22</td>\n",
       "      <td>6.3</td>\n",
       "    </tr>\n",
       "    <tr>\n",
       "      <th>23</th>\n",
       "      <td>23</td>\n",
       "      <td>6.1</td>\n",
       "    </tr>\n",
       "    <tr>\n",
       "      <th>24</th>\n",
       "      <td>24</td>\n",
       "      <td>6.5</td>\n",
       "    </tr>\n",
       "    <tr>\n",
       "      <th>25</th>\n",
       "      <td>25</td>\n",
       "      <td>6.0</td>\n",
       "    </tr>\n",
       "    <tr>\n",
       "      <th>26</th>\n",
       "      <td>26</td>\n",
       "      <td>6.7</td>\n",
       "    </tr>\n",
       "    <tr>\n",
       "      <th>27</th>\n",
       "      <td>27</td>\n",
       "      <td>6.1</td>\n",
       "    </tr>\n",
       "    <tr>\n",
       "      <th>28</th>\n",
       "      <td>28</td>\n",
       "      <td>5.6</td>\n",
       "    </tr>\n",
       "    <tr>\n",
       "      <th>29</th>\n",
       "      <td>29</td>\n",
       "      <td>6.8</td>\n",
       "    </tr>\n",
       "  </tbody>\n",
       "</table>\n",
       "</div>"
      ],
      "text/plain": [
       "    id  predict_score\n",
       "0    0            6.0\n",
       "1    1            6.0\n",
       "2    2            7.2\n",
       "3    3            6.8\n",
       "4    4            6.7\n",
       "5    5            6.2\n",
       "6    6            6.4\n",
       "7    7            6.3\n",
       "8    8            6.2\n",
       "9    9            6.4\n",
       "10  10            6.6\n",
       "11  11            6.2\n",
       "12  12            5.2\n",
       "13  13            6.1\n",
       "14  14            6.2\n",
       "15  15            6.4\n",
       "16  16            6.5\n",
       "17  17            6.4\n",
       "18  18            5.9\n",
       "19  19            6.0\n",
       "20  20            6.4\n",
       "21  21            6.2\n",
       "22  22            6.3\n",
       "23  23            6.1\n",
       "24  24            6.5\n",
       "25  25            6.0\n",
       "26  26            6.7\n",
       "27  27            6.1\n",
       "28  28            5.6\n",
       "29  29            6.8"
      ]
     },
     "execution_count": 130,
     "metadata": {},
     "output_type": "execute_result"
    }
   ],
   "source": [
    "result_df"
   ]
  },
  {
   "cell_type": "code",
   "execution_count": 131,
   "metadata": {},
   "outputs": [],
   "source": [
    "result_df.to_csv('result_30.csv', index=False)"
   ]
  },
  {
   "cell_type": "markdown",
   "metadata": {},
   "source": [
    "# test model"
   ]
  },
  {
   "cell_type": "code",
   "execution_count": 23,
   "metadata": {},
   "outputs": [],
   "source": [
    "def get_model(n_inputs, n_outputs):\n",
    "    model = Sequential()\n",
    "    model.add(Dense(20, input_dim=n_inputs, kernel_initializer='he_uniform', activation='relu'))\n",
    "    model.add(Dense(10, kernel_initializer='he_uniform', activation='relu'))\n",
    "    model.add(Dense(n_outputs, kernel_initializer='he_uniform'))\n",
    "    model.compile(loss='mean_squared_error', optimizer='adam', metrics=['accuracy'])\n",
    "    return model"
   ]
  },
  {
   "cell_type": "code",
   "execution_count": 24,
   "metadata": {},
   "outputs": [],
   "source": [
    "n_inputs, n_outputs = train_X.shape[1], train_y.shape[1]\n",
    "model = get_model(n_inputs, n_outputs)"
   ]
  },
  {
   "cell_type": "code",
   "execution_count": 25,
   "metadata": {},
   "outputs": [
    {
     "name": "stdout",
     "output_type": "stream",
     "text": [
      "WARNING:tensorflow:From C:\\Users\\jjae0\\anaconda3\\lib\\site-packages\\keras\\backend\\tensorflow_backend.py:422: The name tf.global_variables is deprecated. Please use tf.compat.v1.global_variables instead.\n",
      "\n"
     ]
    },
    {
     "name": "stderr",
     "output_type": "stream",
     "text": [
      "2020-12-13 00:25:05,586 : WARNING : From C:\\Users\\jjae0\\anaconda3\\lib\\site-packages\\keras\\backend\\tensorflow_backend.py:422: The name tf.global_variables is deprecated. Please use tf.compat.v1.global_variables instead.\n",
      "\n"
     ]
    }
   ],
   "source": [
    "history = model.fit(train_X, train_y, validation_data=(test_X, test_y), verbose=0, epochs=100)"
   ]
  },
  {
   "cell_type": "code",
   "execution_count": 26,
   "metadata": {},
   "outputs": [
    {
     "name": "stdout",
     "output_type": "stream",
     "text": [
      "30/30 [==============================] - 0s 0us/step\n",
      "\n",
      "Accuracy: 0.1000\n"
     ]
    }
   ],
   "source": [
    "print('\\nAccuracy: {:.4f}'.format(model.evaluate(test_X, test_y)[1]))"
   ]
  },
  {
   "cell_type": "code",
   "execution_count": 27,
   "metadata": {},
   "outputs": [],
   "source": [
    "y_vloss = history.history['val_loss']\n",
    "y_loss = history.history['loss']"
   ]
  },
  {
   "cell_type": "code",
   "execution_count": 28,
   "metadata": {},
   "outputs": [
    {
     "data": {
      "image/png": "[encoded data removed]",
      "text/plain": [
       "<Figure size 432x288 with 1 Axes>"
      ]
     },
     "metadata": {
      "needs_background": "light"
     },
     "output_type": "display_data"
    }
   ],
   "source": [
    "import matplotlib.pyplot as plt\n",
    "\n",
    "x_len = np.arange(len(y_loss))\n",
    "plt.plot(x_len, y_vloss, marker='.', c='red', label=\"Validation-set Loss\")\n",
    "plt.plot(x_len, y_loss, marker='.', c='blue', label=\"Train-set Loss\")\n",
    "\n",
    "plt.legend(loc='upper right')\n",
    "plt.grid()\n",
    "plt.xlabel('epoch')\n",
    "plt.ylabel('loss')\n",
    "plt.show()"
   ]
  },
  {
   "cell_type": "code",
   "execution_count": 29,
   "metadata": {},
   "outputs": [
    {
     "data": {
      "text/plain": [
       "0.725885272026062"
      ]
     },
     "execution_count": 29,
     "metadata": {},
     "output_type": "execute_result"
    }
   ],
   "source": [
    "y_vloss[-1]"
   ]
  },
  {
   "cell_type": "code",
   "execution_count": 30,
   "metadata": {},
   "outputs": [
    {
     "name": "stdout",
     "output_type": "stream",
     "text": [
      "1번째 / 예측값 : [[6.]], 실제값 : 7.7\n",
      "2번째 / 예측값 : [[6.5]], 실제값 : 6.3\n",
      "3번째 / 예측값 : [[6.2]], 실제값 : 5.8\n",
      "4번째 / 예측값 : [[6.7]], 실제값 : 5.4\n",
      "5번째 / 예측값 : [[6.9]], 실제값 : 6.4\n",
      "6번째 / 예측값 : [[6.2]], 실제값 : 5.5\n",
      "7번째 / 예측값 : [[6.1]], 실제값 : 6.1\n",
      "8번째 / 예측값 : [[6.3]], 실제값 : 6.0\n",
      "9번째 / 예측값 : [[6.1]], 실제값 : 6.1\n",
      "10번째 / 예측값 : [[6.3]], 실제값 : 5.8\n",
      "11번째 / 예측값 : [[6.3]], 실제값 : 7.4\n",
      "12번째 / 예측값 : [[6.2]], 실제값 : 5.7\n",
      "13번째 / 예측값 : [[5.2]], 실제값 : 5.3\n",
      "14번째 / 예측값 : [[6.]], 실제값 : 4.3\n",
      "15번째 / 예측값 : [[6.1]], 실제값 : 4.5\n",
      "16번째 / 예측값 : [[6.3]], 실제값 : 5.3\n",
      "17번째 / 예측값 : [[6.2]], 실제값 : 6.3\n",
      "18번째 / 예측값 : [[6.]], 실제값 : 7.0\n",
      "19번째 / 예측값 : [[6.2]], 실제값 : 6.0\n",
      "20번째 / 예측값 : [[5.7]], 실제값 : 5.3\n",
      "21번째 / 예측값 : [[5.9]], 실제값 : 5.6\n",
      "22번째 / 예측값 : [[5.9]], 실제값 : 4.5\n",
      "23번째 / 예측값 : [[6.3]], 실제값 : 6.1\n",
      "24번째 / 예측값 : [[5.9]], 실제값 : 4.2\n",
      "25번째 / 예측값 : [[6.1]], 실제값 : 6.0\n",
      "26번째 / 예측값 : [[5.5]], 실제값 : 6.1\n",
      "27번째 / 예측값 : [[6.6]], 실제값 : 6.0\n",
      "28번째 / 예측값 : [[6.5]], 실제값 : 6.8\n",
      "29번째 / 예측값 : [[5.3]], 실제값 : 5.7\n",
      "30번째 / 예측값 : [[6.7]], 실제값 : 5.7\n"
     ]
    }
   ],
   "source": [
    "yhat = []\n",
    "for i in range(30):\n",
    "    newX = asarray([test_X[i]])\n",
    "    t = model.predict(newX).round(1)\n",
    "    yhat.append(t)\n",
    "    print('{0}번째 / 예측값 : {1}, 실제값 : {2}'.format(i+1, t, test_y[i]))"
   ]
  },
  {
   "cell_type": "code",
   "execution_count": 31,
   "metadata": {},
   "outputs": [],
   "source": [
    "yhat = np.ravel(yhat, order='C')\n",
    "qwer = pd.read_csv('new_30.csv',header=None)\n",
    "result_df = pd.DataFrame({'id' : qwer[0], 'predict_score' : yhat})"
   ]
  },
  {
   "cell_type": "code",
   "execution_count": 32,
   "metadata": {},
   "outputs": [
    {
     "data": {
      "text/html": [
       "<div>\n",
       "<style scoped>\n",
       "    .dataframe tbody tr th:only-of-type {\n",
       "        vertical-align: middle;\n",
       "    }\n",
       "\n",
       "    .dataframe tbody tr th {\n",
       "        vertical-align: top;\n",
       "    }\n",
       "\n",
       "    .dataframe thead th {\n",
       "        text-align: right;\n",
       "    }\n",
       "</style>\n",
       "<table border=\"1\" class=\"dataframe\">\n",
       "  <thead>\n",
       "    <tr style=\"text-align: right;\">\n",
       "      <th></th>\n",
       "      <th>id</th>\n",
       "      <th>predict_score</th>\n",
       "    </tr>\n",
       "  </thead>\n",
       "  <tbody>\n",
       "    <tr>\n",
       "      <th>0</th>\n",
       "      <td>0</td>\n",
       "      <td>6.0</td>\n",
       "    </tr>\n",
       "    <tr>\n",
       "      <th>1</th>\n",
       "      <td>1</td>\n",
       "      <td>6.5</td>\n",
       "    </tr>\n",
       "    <tr>\n",
       "      <th>2</th>\n",
       "      <td>2</td>\n",
       "      <td>6.2</td>\n",
       "    </tr>\n",
       "    <tr>\n",
       "      <th>3</th>\n",
       "      <td>3</td>\n",
       "      <td>6.7</td>\n",
       "    </tr>\n",
       "    <tr>\n",
       "      <th>4</th>\n",
       "      <td>4</td>\n",
       "      <td>6.9</td>\n",
       "    </tr>\n",
       "    <tr>\n",
       "      <th>5</th>\n",
       "      <td>5</td>\n",
       "      <td>6.2</td>\n",
       "    </tr>\n",
       "    <tr>\n",
       "      <th>6</th>\n",
       "      <td>6</td>\n",
       "      <td>6.1</td>\n",
       "    </tr>\n",
       "    <tr>\n",
       "      <th>7</th>\n",
       "      <td>7</td>\n",
       "      <td>6.3</td>\n",
       "    </tr>\n",
       "    <tr>\n",
       "      <th>8</th>\n",
       "      <td>8</td>\n",
       "      <td>6.1</td>\n",
       "    </tr>\n",
       "    <tr>\n",
       "      <th>9</th>\n",
       "      <td>9</td>\n",
       "      <td>6.3</td>\n",
       "    </tr>\n",
       "    <tr>\n",
       "      <th>10</th>\n",
       "      <td>10</td>\n",
       "      <td>6.3</td>\n",
       "    </tr>\n",
       "    <tr>\n",
       "      <th>11</th>\n",
       "      <td>11</td>\n",
       "      <td>6.2</td>\n",
       "    </tr>\n",
       "    <tr>\n",
       "      <th>12</th>\n",
       "      <td>12</td>\n",
       "      <td>5.2</td>\n",
       "    </tr>\n",
       "    <tr>\n",
       "      <th>13</th>\n",
       "      <td>13</td>\n",
       "      <td>6.0</td>\n",
       "    </tr>\n",
       "    <tr>\n",
       "      <th>14</th>\n",
       "      <td>14</td>\n",
       "      <td>6.1</td>\n",
       "    </tr>\n",
       "    <tr>\n",
       "      <th>15</th>\n",
       "      <td>15</td>\n",
       "      <td>6.3</td>\n",
       "    </tr>\n",
       "    <tr>\n",
       "      <th>16</th>\n",
       "      <td>16</td>\n",
       "      <td>6.2</td>\n",
       "    </tr>\n",
       "    <tr>\n",
       "      <th>17</th>\n",
       "      <td>17</td>\n",
       "      <td>6.0</td>\n",
       "    </tr>\n",
       "    <tr>\n",
       "      <th>18</th>\n",
       "      <td>18</td>\n",
       "      <td>6.2</td>\n",
       "    </tr>\n",
       "    <tr>\n",
       "      <th>19</th>\n",
       "      <td>19</td>\n",
       "      <td>5.7</td>\n",
       "    </tr>\n",
       "    <tr>\n",
       "      <th>20</th>\n",
       "      <td>20</td>\n",
       "      <td>5.9</td>\n",
       "    </tr>\n",
       "    <tr>\n",
       "      <th>21</th>\n",
       "      <td>21</td>\n",
       "      <td>5.9</td>\n",
       "    </tr>\n",
       "    <tr>\n",
       "      <th>22</th>\n",
       "      <td>22</td>\n",
       "      <td>6.3</td>\n",
       "    </tr>\n",
       "    <tr>\n",
       "      <th>23</th>\n",
       "      <td>23</td>\n",
       "      <td>5.9</td>\n",
       "    </tr>\n",
       "    <tr>\n",
       "      <th>24</th>\n",
       "      <td>24</td>\n",
       "      <td>6.1</td>\n",
       "    </tr>\n",
       "    <tr>\n",
       "      <th>25</th>\n",
       "      <td>25</td>\n",
       "      <td>5.5</td>\n",
       "    </tr>\n",
       "    <tr>\n",
       "      <th>26</th>\n",
       "      <td>26</td>\n",
       "      <td>6.6</td>\n",
       "    </tr>\n",
       "    <tr>\n",
       "      <th>27</th>\n",
       "      <td>27</td>\n",
       "      <td>6.5</td>\n",
       "    </tr>\n",
       "    <tr>\n",
       "      <th>28</th>\n",
       "      <td>28</td>\n",
       "      <td>5.3</td>\n",
       "    </tr>\n",
       "    <tr>\n",
       "      <th>29</th>\n",
       "      <td>29</td>\n",
       "      <td>6.7</td>\n",
       "    </tr>\n",
       "  </tbody>\n",
       "</table>\n",
       "</div>"
      ],
      "text/plain": [
       "    id  predict_score\n",
       "0    0            6.0\n",
       "1    1            6.5\n",
       "2    2            6.2\n",
       "3    3            6.7\n",
       "4    4            6.9\n",
       "5    5            6.2\n",
       "6    6            6.1\n",
       "7    7            6.3\n",
       "8    8            6.1\n",
       "9    9            6.3\n",
       "10  10            6.3\n",
       "11  11            6.2\n",
       "12  12            5.2\n",
       "13  13            6.0\n",
       "14  14            6.1\n",
       "15  15            6.3\n",
       "16  16            6.2\n",
       "17  17            6.0\n",
       "18  18            6.2\n",
       "19  19            5.7\n",
       "20  20            5.9\n",
       "21  21            5.9\n",
       "22  22            6.3\n",
       "23  23            5.9\n",
       "24  24            6.1\n",
       "25  25            5.5\n",
       "26  26            6.6\n",
       "27  27            6.5\n",
       "28  28            5.3\n",
       "29  29            6.7"
      ]
     },
     "execution_count": 32,
     "metadata": {},
     "output_type": "execute_result"
    }
   ],
   "source": [
    "result_df"
   ]
  },
  {
   "cell_type": "code",
   "execution_count": null,
   "metadata": {},
   "outputs": [],
   "source": []
  }
 ],
 "metadata": {
  "kernelspec": {
   "display_name": "Python 3",
   "language": "python",
   "name": "python3"
  },
  "language_info": {
   "codemirror_mode": {
    "name": "ipython",
    "version": 3
   },
   "file_extension": ".py",
   "mimetype": "text/x-python",
   "name": "python",
   "nbconvert_exporter": "python",
   "pygments_lexer": "ipython3",
   "version": "3.7.6"
  }
 },
 "nbformat": 4,
 "nbformat_minor": 4
}
