{
  "nbformat": 4,
  "nbformat_minor": 0,
  "metadata": {
    "colab": {
      "name": "NLTK.ipynb",
      "provenance": [],
      "collapsed_sections": [],
      "mount_file_id": "1W2ZtVb5uP3a3G_TBXao69DpUjvsI-T2P",
      "authorship_tag": "ABX9TyN8Y0zrVGh0Tp/BDaDjNVCH",
      "include_colab_link": true
    },
    "kernelspec": {
      "name": "python3",
      "display_name": "Python 3"
    }
  },
  "cells": [
    {
      "cell_type": "markdown",
      "metadata": {
        "id": "view-in-github",
        "colab_type": "text"
      },
      "source": [
        "<a href=\"https://colab.research.google.com/github/ysg81/BIG_DATA/blob/main/NLTK.ipynb\" target=\"_parent\"><img src=\"https://colab.research.google.com/assets/colab-badge.svg\" alt=\"Open In Colab\"/></a>"
      ]
    },
    {
      "cell_type": "code",
      "metadata": {
        "id": "aT9IURBRoIle"
      },
      "source": [
        "import nltk\n",
        "import pandas as pd\n",
        "import numpy as np\n",
        "from nltk.tokenize import sent_tokenize\n",
        "from nltk.tokenize import word_tokenize\n",
        "from nltk.corpus import stopwords\n",
        "from nltk.stem import PorterStemmer\n",
        "from nltk.stem import WordNetLemmatizer"
      ],
      "execution_count": 38,
      "outputs": []
    },
    {
      "cell_type": "code",
      "metadata": {
        "colab": {
          "base_uri": "https://localhost:8080/"
        },
        "id": "gl6Mg7JMFnii",
        "outputId": "71a0c3cb-4622-4d2c-95f5-8b3b57ddb3e6"
      },
      "source": [
        "nltk.download('punkt')\n",
        "nltk.download('stopwords')\n",
        "nltk.download('wordnet')"
      ],
      "execution_count": 52,
      "outputs": [
        {
          "output_type": "stream",
          "text": [
            "[nltk_data] Downloading package punkt to /root/nltk_data...\n",
            "[nltk_data]   Package punkt is already up-to-date!\n",
            "[nltk_data] Downloading package stopwords to /root/nltk_data...\n",
            "[nltk_data]   Package stopwords is already up-to-date!\n",
            "[nltk_data] Downloading package wordnet to /root/nltk_data...\n",
            "[nltk_data]   Unzipping corpora/wordnet.zip.\n"
          ],
          "name": "stdout"
        },
        {
          "output_type": "execute_result",
          "data": {
            "text/plain": [
              "True"
            ]
          },
          "metadata": {
            "tags": []
          },
          "execution_count": 52
        }
      ]
    },
    {
      "cell_type": "code",
      "metadata": {
        "id": "yJIIU2aaNEdB"
      },
      "source": [
        "# 불용어 설정\n",
        "stop_words = set(stopwords.words('english'))\n",
        "\n",
        "# Stemming instance \n",
        "pst = PorterStemmer()\n",
        "\n",
        "# Lemmatization instance\n",
        "wnl = WordNetLemmatizer()"
      ],
      "execution_count": 39,
      "outputs": []
    },
    {
      "cell_type": "code",
      "metadata": {
        "id": "_NXgnLtMoQ9o"
      },
      "source": [
        "input_csv_file = '/content/drive/MyDrive/Colab Notebooks/record3.csv'"
      ],
      "execution_count": 24,
      "outputs": []
    },
    {
      "cell_type": "code",
      "metadata": {
        "id": "KkHqTZCToThv"
      },
      "source": [
        "csv_data = pd.read_csv(input_csv_file, header=None, nrows=None)"
      ],
      "execution_count": 25,
      "outputs": []
    },
    {
      "cell_type": "markdown",
      "metadata": {
        "id": "tQdv-kAMyKaC"
      },
      "source": [
        "0 : 크롤링 순서\n",
        "\n",
        "1 : 링크 주소\n",
        "\n",
        "2 : 평점 (필요)\n",
        "\n",
        "3 : 제목 및 개봉년도 (필요)\n",
        "\n",
        "4 : 상영 시간, 장르, 개봉일자 및 제작 국가\n",
        "\n",
        "5 : 평가 (필요)"
      ]
    },
    {
      "cell_type": "code",
      "metadata": {
        "id": "X4JrqDD879I6"
      },
      "source": [
        "# 예외처리 된 부분 삭제\n",
        "output = csv_data.drop(columns=[0, 1, 4], axis=0)\n",
        "remove_null = output[output[5] == '-'].index\n",
        "output = output.drop(remove_null)"
      ],
      "execution_count": 26,
      "outputs": []
    },
    {
      "cell_type": "code",
      "metadata": {
        "id": "HZ8KSezWGspV"
      },
      "source": [
        "def text_lower(doc):\n",
        "  return doc.lower()\n",
        "\n",
        "def tokenizer_morphs(doc):\n",
        "  return word_tokenize(doc)\n",
        "\n",
        "def remove_stopwords(doc):\n",
        "  result = []\n",
        "  for w in doc:\n",
        "    if w not in stop_words:\n",
        "      result.append(w)\n",
        "  return result\n",
        "\n",
        "def porter_stemmer(doc):\n",
        "  result = []\n",
        "  for w in doc:\n",
        "    result.append(pst.stem(w))\n",
        "  return result\n",
        "\n",
        "def wordnet_lemmatization(doc):\n",
        "  result = []\n",
        "  for w in doc:\n",
        "    result.append(wnl.lemmatize(w))\n",
        "  return result"
      ],
      "execution_count": 45,
      "outputs": []
    },
    {
      "cell_type": "code",
      "metadata": {
        "id": "eioDGFojQDqm"
      },
      "source": [
        "# 전체 소문자\n",
        "output['token_text'] = output[5].apply(text_lower)"
      ],
      "execution_count": 46,
      "outputs": []
    },
    {
      "cell_type": "code",
      "metadata": {
        "id": "6oyz3WCatyMK"
      },
      "source": [
        "# 토큰화\n",
        "output['token_text'] = output['token_text'].apply(tokenizer_morphs)"
      ],
      "execution_count": 47,
      "outputs": []
    },
    {
      "cell_type": "code",
      "metadata": {
        "id": "wuPpr82aOIf4"
      },
      "source": [
        "# 불용어 제거\n",
        "output['token_text'] = output['token_text'].apply(remove_stopwords)"
      ],
      "execution_count": 48,
      "outputs": []
    },
    {
      "cell_type": "code",
      "metadata": {
        "id": "e9yq0jthTM7h"
      },
      "source": [
        "# Stemming\n",
        "output['stemmed_tokens'] = output['token_text'].apply(porter_stemmer)"
      ],
      "execution_count": 49,
      "outputs": []
    },
    {
      "cell_type": "code",
      "metadata": {
        "id": "gz2QSfgNTNFe"
      },
      "source": [
        "# Lemmatization\n",
        "output['lamm_tokens'] = output['token_text'].apply(wordnet_lemmatization)"
      ],
      "execution_count": 53,
      "outputs": []
    },
    {
      "cell_type": "code",
      "metadata": {
        "id": "2Y9TzVKFDXav"
      },
      "source": [
        "output.to_csv('/content/drive/MyDrive/Colab Notebooks/record3_NLTK.csv')"
      ],
      "execution_count": 54,
      "outputs": []
    },
    {
      "cell_type": "code",
      "metadata": {
        "id": "7J_xIzWPyGFZ"
      },
      "source": [
        ""
      ],
      "execution_count": null,
      "outputs": []
    }
  ]
}