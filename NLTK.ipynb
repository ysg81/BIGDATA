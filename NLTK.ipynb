{
  "nbformat": 4,
  "nbformat_minor": 0,
  "metadata": {
    "colab": {
      "name": "NLTK.ipynb",
      "provenance": [],
      "collapsed_sections": [],
      "mount_file_id": "1W2ZtVb5uP3a3G_TBXao69DpUjvsI-T2P",
      "authorship_tag": "ABX9TyOFI3PBk8IIlxGKu4qkQ3sl",
      "include_colab_link": true
    },
    "kernelspec": {
      "name": "python3",
      "display_name": "Python 3"
    }
  },
  "cells": [
    {
      "cell_type": "markdown",
      "metadata": {
        "id": "view-in-github",
        "colab_type": "text"
      },
      "source": [
        "<a href=\"https://colab.research.google.com/github/ysg81/BIG_DATA/blob/main/NLTK.ipynb\" target=\"_parent\"><img src=\"https://colab.research.google.com/assets/colab-badge.svg\" alt=\"Open In Colab\"/></a>"
      ]
    },
    {
      "cell_type": "code",
      "metadata": {
        "id": "aT9IURBRoIle"
      },
      "source": [
        "import nltk\n",
        "import pandas as pd\n",
        "import numpy as np\n",
        "from nltk.tokenize import sent_tokenize\n",
        "from nltk.tokenize import word_tokenize\n",
        "from nltk.corpus import stopwords\n",
        "from nltk.stem import PorterStemmer\n",
        "from nltk.stem import WordNetLemmatizer"
      ],
      "execution_count": 91,
      "outputs": []
    },
    {
      "cell_type": "code",
      "metadata": {
        "colab": {
          "base_uri": "https://localhost:8080/"
        },
        "id": "gl6Mg7JMFnii",
        "outputId": "9c0acf95-57b9-428f-f905-26011840ecbb"
      },
      "source": [
        "nltk.download('punkt')\n",
        "nltk.download('stopwords')\n",
        "nltk.download('wordnet')"
      ],
      "execution_count": 92,
      "outputs": [
        {
          "output_type": "stream",
          "text": [
            "[nltk_data] Downloading package punkt to /root/nltk_data...\n",
            "[nltk_data]   Package punkt is already up-to-date!\n",
            "[nltk_data] Downloading package stopwords to /root/nltk_data...\n",
            "[nltk_data]   Package stopwords is already up-to-date!\n",
            "[nltk_data] Downloading package wordnet to /root/nltk_data...\n",
            "[nltk_data]   Package wordnet is already up-to-date!\n"
          ],
          "name": "stdout"
        },
        {
          "output_type": "execute_result",
          "data": {
            "text/plain": [
              "True"
            ]
          },
          "metadata": {
            "tags": []
          },
          "execution_count": 92
        }
      ]
    },
    {
      "cell_type": "code",
      "metadata": {
        "id": "yJIIU2aaNEdB"
      },
      "source": [
        "# 불용어 설정\n",
        "stop_words = set(stopwords.words('english'))\n",
        "\n",
        "# Stemming instance \n",
        "pst = PorterStemmer()\n",
        "\n",
        "# Lemmatization instance\n",
        "wnl = WordNetLemmatizer()"
      ],
      "execution_count": 93,
      "outputs": []
    },
    {
      "cell_type": "code",
      "metadata": {
        "id": "_NXgnLtMoQ9o"
      },
      "source": [
        "input_csv_file = '/content/drive/MyDrive/Colab Notebooks/record2.csv'"
      ],
      "execution_count": 94,
      "outputs": []
    },
    {
      "cell_type": "code",
      "metadata": {
        "id": "KkHqTZCToThv"
      },
      "source": [
        "csv_data = pd.read_csv(input_csv_file, header=None, nrows=None)\n",
        "csv_data = csv_data.astype(str)"
      ],
      "execution_count": 116,
      "outputs": []
    },
    {
      "cell_type": "markdown",
      "metadata": {
        "id": "tQdv-kAMyKaC"
      },
      "source": [
        "0 : 크롤링 순서\n",
        "\n",
        "1 : 링크 주소\n",
        "\n",
        "2 : 평점 (필요)\n",
        "\n",
        "3 : 제목 및 개봉년도 (필요)\n",
        "\n",
        "4 : 상영 시간, 장르, 개봉일자 및 제작 국가\n",
        "\n",
        "5 : 평가 (필요)"
      ]
    },
    {
      "cell_type": "code",
      "metadata": {
        "id": "X4JrqDD879I6"
      },
      "source": [
        "# 예외처리 된 부분 삭제\n",
        "output = csv_data.drop(columns=[0, 1, 4], axis=0)\n",
        "remove_null = output[output[5] == '-'].index\n",
        "output = output.drop(remove_null)"
      ],
      "execution_count": 117,
      "outputs": []
    },
    {
      "cell_type": "code",
      "metadata": {
        "id": "HZ8KSezWGspV"
      },
      "source": [
        "def text_lower(doc):\n",
        "  return doc.lower()\n",
        "\n",
        "def tokenizer_morphs(doc):\n",
        "  return word_tokenize(doc)\n",
        "\n",
        "def remove_stopwords(doc):\n",
        "  result = []\n",
        "  for w in doc:\n",
        "    if w not in stop_words:\n",
        "      result.append(w)\n",
        "  return result\n",
        "\n",
        "def porter_stemmer(doc):\n",
        "  result = []\n",
        "  for w in doc:\n",
        "    result.append(pst.stem(w))\n",
        "  return result\n",
        "\n",
        "def wordnet_lemmatization(doc):\n",
        "  result = []\n",
        "  for w in doc:\n",
        "    result.append(wnl.lemmatize(w))\n",
        "  return result"
      ],
      "execution_count": 118,
      "outputs": []
    },
    {
      "cell_type": "code",
      "metadata": {
        "colab": {
          "base_uri": "https://localhost:8080/",
          "height": 419
        },
        "id": "zJYxzeW0bA4U",
        "outputId": "4f5f177f-84ed-4aa6-c33c-1fbca6cf95de"
      },
      "source": [
        "output"
      ],
      "execution_count": 119,
      "outputs": [
        {
          "output_type": "execute_result",
          "data": {
            "text/html": [
              "<div>\n",
              "<style scoped>\n",
              "    .dataframe tbody tr th:only-of-type {\n",
              "        vertical-align: middle;\n",
              "    }\n",
              "\n",
              "    .dataframe tbody tr th {\n",
              "        vertical-align: top;\n",
              "    }\n",
              "\n",
              "    .dataframe thead th {\n",
              "        text-align: right;\n",
              "    }\n",
              "</style>\n",
              "<table border=\"1\" class=\"dataframe\">\n",
              "  <thead>\n",
              "    <tr style=\"text-align: right;\">\n",
              "      <th></th>\n",
              "      <th>2</th>\n",
              "      <th>3</th>\n",
              "      <th>5</th>\n",
              "    </tr>\n",
              "  </thead>\n",
              "  <tbody>\n",
              "    <tr>\n",
              "      <th>0</th>\n",
              "      <td>5.7</td>\n",
              "      <td>Jigsaw (1949)</td>\n",
              "      <td>New York Assistant District Attorney Howard Ma...</td>\n",
              "    </tr>\n",
              "    <tr>\n",
              "      <th>1</th>\n",
              "      <td>7.7</td>\n",
              "      <td>Oliver Twist</td>\n",
              "      <td>An orphan named Oliver Twist (Sam Smith) meets...</td>\n",
              "    </tr>\n",
              "    <tr>\n",
              "      <th>2</th>\n",
              "      <td>4.6</td>\n",
              "      <td>S*P*Y*S (1974)</td>\n",
              "      <td>Two spies end up being chased by the C.I.A., T...</td>\n",
              "    </tr>\n",
              "    <tr>\n",
              "      <th>3</th>\n",
              "      <td>5.3</td>\n",
              "      <td>Older Than America (2008)</td>\n",
              "      <td>A woman's haunting visions reveal a Catholic p...</td>\n",
              "    </tr>\n",
              "    <tr>\n",
              "      <th>4</th>\n",
              "      <td>5.3</td>\n",
              "      <td>Murders in the Rue Morgue (1971)</td>\n",
              "      <td>Paris...at the turn of the century. Inspector ...</td>\n",
              "    </tr>\n",
              "    <tr>\n",
              "      <th>...</th>\n",
              "      <td>...</td>\n",
              "      <td>...</td>\n",
              "      <td>...</td>\n",
              "    </tr>\n",
              "    <tr>\n",
              "      <th>12481</th>\n",
              "      <td>6.5</td>\n",
              "      <td>About Scout (2015)</td>\n",
              "      <td>A rebellious Goth girl embarks on a road trip ...</td>\n",
              "    </tr>\n",
              "    <tr>\n",
              "      <th>12482</th>\n",
              "      <td>6.1</td>\n",
              "      <td>A Sunday Horse (2016)</td>\n",
              "      <td>After a near-fatal accident, on a horse the ex...</td>\n",
              "    </tr>\n",
              "    <tr>\n",
              "      <th>12483</th>\n",
              "      <td>6.9</td>\n",
              "      <td>Doomed: The Untold Story of Roger Corman's the...</td>\n",
              "      <td>A documentary that tells the history of The Fa...</td>\n",
              "    </tr>\n",
              "    <tr>\n",
              "      <th>12484</th>\n",
              "      <td>7.0</td>\n",
              "      <td>El dia que murio el silencio (1998)</td>\n",
              "      <td>Handsome entrepeneur Abelardo Rios Clarios arr...</td>\n",
              "    </tr>\n",
              "    <tr>\n",
              "      <th>12485</th>\n",
              "      <td>7.1</td>\n",
              "      <td>Kimi ni todoke (2010)</td>\n",
              "      <td>A girl that resemble 'Sadako' of the movie Rin...</td>\n",
              "    </tr>\n",
              "  </tbody>\n",
              "</table>\n",
              "<p>12311 rows × 3 columns</p>\n",
              "</div>"
            ],
            "text/plain": [
              "         2  ...                                                  5\n",
              "0      5.7  ...  New York Assistant District Attorney Howard Ma...\n",
              "1      7.7  ...  An orphan named Oliver Twist (Sam Smith) meets...\n",
              "2      4.6  ...  Two spies end up being chased by the C.I.A., T...\n",
              "3      5.3  ...  A woman's haunting visions reveal a Catholic p...\n",
              "4      5.3  ...  Paris...at the turn of the century. Inspector ...\n",
              "...    ...  ...                                                ...\n",
              "12481  6.5  ...  A rebellious Goth girl embarks on a road trip ...\n",
              "12482  6.1  ...  After a near-fatal accident, on a horse the ex...\n",
              "12483  6.9  ...  A documentary that tells the history of The Fa...\n",
              "12484  7.0  ...  Handsome entrepeneur Abelardo Rios Clarios arr...\n",
              "12485  7.1  ...  A girl that resemble 'Sadako' of the movie Rin...\n",
              "\n",
              "[12311 rows x 3 columns]"
            ]
          },
          "metadata": {
            "tags": []
          },
          "execution_count": 119
        }
      ]
    },
    {
      "cell_type": "code",
      "metadata": {
        "id": "eioDGFojQDqm"
      },
      "source": [
        "# 전체 소문자\n",
        "output['token_text'] = output[5].apply(text_lower)"
      ],
      "execution_count": 120,
      "outputs": []
    },
    {
      "cell_type": "code",
      "metadata": {
        "id": "6oyz3WCatyMK"
      },
      "source": [
        "# 토큰화\n",
        "output['token_text'] = output['token_text'].apply(tokenizer_morphs)"
      ],
      "execution_count": 121,
      "outputs": []
    },
    {
      "cell_type": "code",
      "metadata": {
        "id": "wuPpr82aOIf4"
      },
      "source": [
        "# 불용어 제거\n",
        "output['token_text'] = output['token_text'].apply(remove_stopwords)"
      ],
      "execution_count": 122,
      "outputs": []
    },
    {
      "cell_type": "code",
      "metadata": {
        "id": "e9yq0jthTM7h"
      },
      "source": [
        "# Stemming\n",
        "output['stemmed_tokens'] = output['token_text'].apply(porter_stemmer)"
      ],
      "execution_count": 123,
      "outputs": []
    },
    {
      "cell_type": "code",
      "metadata": {
        "id": "gz2QSfgNTNFe"
      },
      "source": [
        "# Lemmatization\n",
        "output['lamm_tokens'] = output['token_text'].apply(wordnet_lemmatization)"
      ],
      "execution_count": 124,
      "outputs": []
    },
    {
      "cell_type": "code",
      "metadata": {
        "id": "2Y9TzVKFDXav"
      },
      "source": [
        "output.to_csv('/content/drive/MyDrive/Colab Notebooks/record2_NLTK.csv')"
      ],
      "execution_count": 125,
      "outputs": []
    },
    {
      "cell_type": "code",
      "metadata": {
        "id": "7J_xIzWPyGFZ"
      },
      "source": [
        ""
      ],
      "execution_count": null,
      "outputs": []
    }
  ]
}